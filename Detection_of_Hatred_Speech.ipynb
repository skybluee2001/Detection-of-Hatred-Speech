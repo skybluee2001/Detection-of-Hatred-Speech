{
  "nbformat": 4,
  "nbformat_minor": 0,
  "metadata": {
    "colab": {
      "name": "Detection of Hatred Speech.ipynb",
      "provenance": [],
      "collapsed_sections": []
    },
    "kernelspec": {
      "name": "python3",
      "display_name": "Python 3"
    }
  },
  "cells": [
    {
      "cell_type": "markdown",
      "metadata": {
        "id": "6IdeVzKlrv2M"
      },
      "source": [
        "# **Detection of Hatred Speech**\r\n",
        "\r\n",
        "---\r\n",
        "\r\n",
        "\r\n",
        "\r\n"
      ]
    },
    {
      "cell_type": "markdown",
      "metadata": {
        "id": "erOc-ApwmjYi"
      },
      "source": [
        "## **Loading** **Data**\r\n",
        "\r\n",
        "\r\n",
        "\r\n",
        "\r\n"
      ]
    },
    {
      "cell_type": "code",
      "metadata": {
        "colab": {
          "base_uri": "https://localhost:8080/",
          "height": 450
        },
        "id": "rZwacjWt8s_s",
        "outputId": "265c219a-de8f-452f-a476-8d2cc167b8d3"
      },
      "source": [
        "import pandas as pd\r\n",
        "train = pd.read_csv('train.csv')\r\n",
        "print(\"Training Set:\"% train.columns, train.shape, len(train))\r\n",
        "test = pd.read_csv('test.csv')\r\n",
        "print(\"Test Set:\" % test.columns, test.shape, len(test))\r\n",
        "# dataset.head()\r\n",
        "train"
      ],
      "execution_count": null,
      "outputs": [
        {
          "output_type": "stream",
          "text": [
            "Training Set: (31962, 3) 31962\n",
            "Test Set: (17197, 2) 17197\n"
          ],
          "name": "stdout"
        },
        {
          "output_type": "execute_result",
          "data": {
            "text/html": [
              "<div>\n",
              "<style scoped>\n",
              "    .dataframe tbody tr th:only-of-type {\n",
              "        vertical-align: middle;\n",
              "    }\n",
              "\n",
              "    .dataframe tbody tr th {\n",
              "        vertical-align: top;\n",
              "    }\n",
              "\n",
              "    .dataframe thead th {\n",
              "        text-align: right;\n",
              "    }\n",
              "</style>\n",
              "<table border=\"1\" class=\"dataframe\">\n",
              "  <thead>\n",
              "    <tr style=\"text-align: right;\">\n",
              "      <th></th>\n",
              "      <th>id</th>\n",
              "      <th>label</th>\n",
              "      <th>tweet</th>\n",
              "    </tr>\n",
              "  </thead>\n",
              "  <tbody>\n",
              "    <tr>\n",
              "      <th>0</th>\n",
              "      <td>1</td>\n",
              "      <td>0</td>\n",
              "      <td>@user when a father is dysfunctional and is s...</td>\n",
              "    </tr>\n",
              "    <tr>\n",
              "      <th>1</th>\n",
              "      <td>2</td>\n",
              "      <td>0</td>\n",
              "      <td>@user @user thanks for #lyft credit i can't us...</td>\n",
              "    </tr>\n",
              "    <tr>\n",
              "      <th>2</th>\n",
              "      <td>3</td>\n",
              "      <td>0</td>\n",
              "      <td>bihday your majesty</td>\n",
              "    </tr>\n",
              "    <tr>\n",
              "      <th>3</th>\n",
              "      <td>4</td>\n",
              "      <td>0</td>\n",
              "      <td>#model   i love u take with u all the time in ...</td>\n",
              "    </tr>\n",
              "    <tr>\n",
              "      <th>4</th>\n",
              "      <td>5</td>\n",
              "      <td>0</td>\n",
              "      <td>factsguide: society now    #motivation</td>\n",
              "    </tr>\n",
              "    <tr>\n",
              "      <th>...</th>\n",
              "      <td>...</td>\n",
              "      <td>...</td>\n",
              "      <td>...</td>\n",
              "    </tr>\n",
              "    <tr>\n",
              "      <th>31957</th>\n",
              "      <td>31958</td>\n",
              "      <td>0</td>\n",
              "      <td>ate @user isz that youuu?ðððððð...</td>\n",
              "    </tr>\n",
              "    <tr>\n",
              "      <th>31958</th>\n",
              "      <td>31959</td>\n",
              "      <td>0</td>\n",
              "      <td>to see nina turner on the airwaves trying to...</td>\n",
              "    </tr>\n",
              "    <tr>\n",
              "      <th>31959</th>\n",
              "      <td>31960</td>\n",
              "      <td>0</td>\n",
              "      <td>listening to sad songs on a monday morning otw...</td>\n",
              "    </tr>\n",
              "    <tr>\n",
              "      <th>31960</th>\n",
              "      <td>31961</td>\n",
              "      <td>1</td>\n",
              "      <td>@user #sikh #temple vandalised in in #calgary,...</td>\n",
              "    </tr>\n",
              "    <tr>\n",
              "      <th>31961</th>\n",
              "      <td>31962</td>\n",
              "      <td>0</td>\n",
              "      <td>thank you @user for you follow</td>\n",
              "    </tr>\n",
              "  </tbody>\n",
              "</table>\n",
              "<p>31962 rows × 3 columns</p>\n",
              "</div>"
            ],
            "text/plain": [
              "          id  label                                              tweet\n",
              "0          1      0   @user when a father is dysfunctional and is s...\n",
              "1          2      0  @user @user thanks for #lyft credit i can't us...\n",
              "2          3      0                                bihday your majesty\n",
              "3          4      0  #model   i love u take with u all the time in ...\n",
              "4          5      0             factsguide: society now    #motivation\n",
              "...      ...    ...                                                ...\n",
              "31957  31958      0  ate @user isz that youuu?ðððððð...\n",
              "31958  31959      0    to see nina turner on the airwaves trying to...\n",
              "31959  31960      0  listening to sad songs on a monday morning otw...\n",
              "31960  31961      1  @user #sikh #temple vandalised in in #calgary,...\n",
              "31961  31962      0                   thank you @user for you follow  \n",
              "\n",
              "[31962 rows x 3 columns]"
            ]
          },
          "metadata": {
            "tags": []
          },
          "execution_count": 1
        }
      ]
    },
    {
      "cell_type": "markdown",
      "metadata": {
        "id": "Ghj31sLzmZpP"
      },
      "source": [
        ""
      ]
    },
    {
      "cell_type": "markdown",
      "metadata": {
        "id": "Wr1Pv7q3m9sT"
      },
      "source": [
        "# **Data** **Cleaning**"
      ]
    },
    {
      "cell_type": "code",
      "metadata": {
        "colab": {
          "base_uri": "https://localhost:8080/",
          "height": 415
        },
        "id": "Uyt2jWu7CpR0",
        "outputId": "10ee0b7b-4860-4287-8dae-d3f82a545549"
      },
      "source": [
        "import re\r\n",
        "def  clean_text(df, text):\r\n",
        "    df[text] = df[text].str.lower()\r\n",
        "    df[text] = df[text].apply(lambda el: re.sub(r\"(@[A-Za-z0-9]+)|([^0-9A-Za-z \\t])|(\\w+:\\/\\/\\S+)|^rt|http.+?\", \"\", el))  \r\n",
        "    return df\r\n",
        "test_clean = clean_text(test, \"tweet\")\r\n",
        "train_clean = clean_text(train, \"tweet\")\r\n",
        "train_clean"
      ],
      "execution_count": null,
      "outputs": [
        {
          "output_type": "execute_result",
          "data": {
            "text/html": [
              "<div>\n",
              "<style scoped>\n",
              "    .dataframe tbody tr th:only-of-type {\n",
              "        vertical-align: middle;\n",
              "    }\n",
              "\n",
              "    .dataframe tbody tr th {\n",
              "        vertical-align: top;\n",
              "    }\n",
              "\n",
              "    .dataframe thead th {\n",
              "        text-align: right;\n",
              "    }\n",
              "</style>\n",
              "<table border=\"1\" class=\"dataframe\">\n",
              "  <thead>\n",
              "    <tr style=\"text-align: right;\">\n",
              "      <th></th>\n",
              "      <th>id</th>\n",
              "      <th>label</th>\n",
              "      <th>tweet</th>\n",
              "    </tr>\n",
              "  </thead>\n",
              "  <tbody>\n",
              "    <tr>\n",
              "      <th>0</th>\n",
              "      <td>1</td>\n",
              "      <td>0</td>\n",
              "      <td>when a father is dysfunctional and is so sel...</td>\n",
              "    </tr>\n",
              "    <tr>\n",
              "      <th>1</th>\n",
              "      <td>2</td>\n",
              "      <td>0</td>\n",
              "      <td>thanks for lyft credit i cant use cause they...</td>\n",
              "    </tr>\n",
              "    <tr>\n",
              "      <th>2</th>\n",
              "      <td>3</td>\n",
              "      <td>0</td>\n",
              "      <td>bihday your majesty</td>\n",
              "    </tr>\n",
              "    <tr>\n",
              "      <th>3</th>\n",
              "      <td>4</td>\n",
              "      <td>0</td>\n",
              "      <td>model   i love u take with u all the time in u...</td>\n",
              "    </tr>\n",
              "    <tr>\n",
              "      <th>4</th>\n",
              "      <td>5</td>\n",
              "      <td>0</td>\n",
              "      <td>factsguide society now    motivation</td>\n",
              "    </tr>\n",
              "    <tr>\n",
              "      <th>...</th>\n",
              "      <td>...</td>\n",
              "      <td>...</td>\n",
              "      <td>...</td>\n",
              "    </tr>\n",
              "    <tr>\n",
              "      <th>31957</th>\n",
              "      <td>31958</td>\n",
              "      <td>0</td>\n",
              "      <td>ate  isz that youuu</td>\n",
              "    </tr>\n",
              "    <tr>\n",
              "      <th>31958</th>\n",
              "      <td>31959</td>\n",
              "      <td>0</td>\n",
              "      <td>to see nina turner on the airwaves trying to...</td>\n",
              "    </tr>\n",
              "    <tr>\n",
              "      <th>31959</th>\n",
              "      <td>31960</td>\n",
              "      <td>0</td>\n",
              "      <td>listening to sad songs on a monday morning otw...</td>\n",
              "    </tr>\n",
              "    <tr>\n",
              "      <th>31960</th>\n",
              "      <td>31961</td>\n",
              "      <td>1</td>\n",
              "      <td>sikh temple vandalised in in calgary wso cond...</td>\n",
              "    </tr>\n",
              "    <tr>\n",
              "      <th>31961</th>\n",
              "      <td>31962</td>\n",
              "      <td>0</td>\n",
              "      <td>thank you  for you follow</td>\n",
              "    </tr>\n",
              "  </tbody>\n",
              "</table>\n",
              "<p>31962 rows × 3 columns</p>\n",
              "</div>"
            ],
            "text/plain": [
              "          id  label                                              tweet\n",
              "0          1      0    when a father is dysfunctional and is so sel...\n",
              "1          2      0    thanks for lyft credit i cant use cause they...\n",
              "2          3      0                                bihday your majesty\n",
              "3          4      0  model   i love u take with u all the time in u...\n",
              "4          5      0               factsguide society now    motivation\n",
              "...      ...    ...                                                ...\n",
              "31957  31958      0                               ate  isz that youuu \n",
              "31958  31959      0    to see nina turner on the airwaves trying to...\n",
              "31959  31960      0  listening to sad songs on a monday morning otw...\n",
              "31960  31961      1   sikh temple vandalised in in calgary wso cond...\n",
              "31961  31962      0                        thank you  for you follow  \n",
              "\n",
              "[31962 rows x 3 columns]"
            ]
          },
          "metadata": {
            "tags": []
          },
          "execution_count": 3
        }
      ]
    },
    {
      "cell_type": "markdown",
      "metadata": {
        "id": "wxlmGItfnLPZ"
      },
      "source": [
        "# **Handling Imbalanced Data**\r\n"
      ]
    },
    {
      "cell_type": "code",
      "metadata": {
        "colab": {
          "base_uri": "https://localhost:8080/",
          "height": 415
        },
        "id": "-8kRPNTXDA5o",
        "outputId": "78149ca7-69c0-4d1a-fcf1-325d6385d5ab"
      },
      "source": [
        "from sklearn.utils import resample\r\n",
        "maj=train_clean[train_clean['label']==0]\r\n",
        "min=train_clean[train_clean.label==1]\r\n",
        "min_train=resample(min,replace=True,n_samples=len(maj),random_state=0)\r\n",
        "train=pd.concat([min_train,maj])\r\n",
        "train.label.value_counts()\r\n",
        "train"
      ],
      "execution_count": null,
      "outputs": [
        {
          "output_type": "execute_result",
          "data": {
            "text/html": [
              "<div>\n",
              "<style scoped>\n",
              "    .dataframe tbody tr th:only-of-type {\n",
              "        vertical-align: middle;\n",
              "    }\n",
              "\n",
              "    .dataframe tbody tr th {\n",
              "        vertical-align: top;\n",
              "    }\n",
              "\n",
              "    .dataframe thead th {\n",
              "        text-align: right;\n",
              "    }\n",
              "</style>\n",
              "<table border=\"1\" class=\"dataframe\">\n",
              "  <thead>\n",
              "    <tr style=\"text-align: right;\">\n",
              "      <th></th>\n",
              "      <th>id</th>\n",
              "      <th>label</th>\n",
              "      <th>tweet</th>\n",
              "    </tr>\n",
              "  </thead>\n",
              "  <tbody>\n",
              "    <tr>\n",
              "      <th>23718</th>\n",
              "      <td>23719</td>\n",
              "      <td>1</td>\n",
              "      <td>you might be a libtard if libtard  sjw libera...</td>\n",
              "    </tr>\n",
              "    <tr>\n",
              "      <th>11832</th>\n",
              "      <td>11833</td>\n",
              "      <td>1</td>\n",
              "      <td>black judge quietly removed from philandocasti...</td>\n",
              "    </tr>\n",
              "    <tr>\n",
              "      <th>10849</th>\n",
              "      <td>10850</td>\n",
              "      <td>1</td>\n",
              "      <td>feminismiscancer feminismisterrorism feminism...</td>\n",
              "    </tr>\n",
              "    <tr>\n",
              "      <th>24771</th>\n",
              "      <td>24772</td>\n",
              "      <td>1</td>\n",
              "      <td>japan abe govt oppress freedomofspeech than ha...</td>\n",
              "    </tr>\n",
              "    <tr>\n",
              "      <th>14835</th>\n",
              "      <td>14836</td>\n",
              "      <td>1</td>\n",
              "      <td>when they call us   homophobic  misogynist  th...</td>\n",
              "    </tr>\n",
              "    <tr>\n",
              "      <th>...</th>\n",
              "      <td>...</td>\n",
              "      <td>...</td>\n",
              "      <td>...</td>\n",
              "    </tr>\n",
              "    <tr>\n",
              "      <th>31956</th>\n",
              "      <td>31957</td>\n",
              "      <td>0</td>\n",
              "      <td>off fishing tomorrow  carnt wait first time in...</td>\n",
              "    </tr>\n",
              "    <tr>\n",
              "      <th>31957</th>\n",
              "      <td>31958</td>\n",
              "      <td>0</td>\n",
              "      <td>ate  isz that youuu</td>\n",
              "    </tr>\n",
              "    <tr>\n",
              "      <th>31958</th>\n",
              "      <td>31959</td>\n",
              "      <td>0</td>\n",
              "      <td>to see nina turner on the airwaves trying to...</td>\n",
              "    </tr>\n",
              "    <tr>\n",
              "      <th>31959</th>\n",
              "      <td>31960</td>\n",
              "      <td>0</td>\n",
              "      <td>listening to sad songs on a monday morning otw...</td>\n",
              "    </tr>\n",
              "    <tr>\n",
              "      <th>31961</th>\n",
              "      <td>31962</td>\n",
              "      <td>0</td>\n",
              "      <td>thank you  for you follow</td>\n",
              "    </tr>\n",
              "  </tbody>\n",
              "</table>\n",
              "<p>59440 rows × 3 columns</p>\n",
              "</div>"
            ],
            "text/plain": [
              "          id  label                                              tweet\n",
              "23718  23719      1   you might be a libtard if libtard  sjw libera...\n",
              "11832  11833      1  black judge quietly removed from philandocasti...\n",
              "10849  10850      1   feminismiscancer feminismisterrorism feminism...\n",
              "24771  24772      1  japan abe govt oppress freedomofspeech than ha...\n",
              "14835  14836      1  when they call us   homophobic  misogynist  th...\n",
              "...      ...    ...                                                ...\n",
              "31956  31957      0  off fishing tomorrow  carnt wait first time in...\n",
              "31957  31958      0                               ate  isz that youuu \n",
              "31958  31959      0    to see nina turner on the airwaves trying to...\n",
              "31959  31960      0  listening to sad songs on a monday morning otw...\n",
              "31961  31962      0                        thank you  for you follow  \n",
              "\n",
              "[59440 rows x 3 columns]"
            ]
          },
          "metadata": {
            "tags": []
          },
          "execution_count": 156
        }
      ]
    },
    {
      "cell_type": "markdown",
      "metadata": {
        "id": "INAgV7FhoOjK"
      },
      "source": [
        "# **Creating Pipelines**\r\n",
        "\r\n"
      ]
    },
    {
      "cell_type": "code",
      "metadata": {
        "id": "XEQ2gkA9DApe"
      },
      "source": [
        "from sklearn.feature_extraction.text import TfidfVectorizer\r\n",
        "from sklearn.pipeline import Pipeline\r\n",
        "from sklearn.metrics import f1_score\r\n",
        "from sklearn.feature_extraction.text import CountVectorizer\r\n",
        "from sklearn.feature_extraction.text import TfidfVectorizer\r\n",
        "from sklearn.feature_extraction.text import TfidfTransformer\r\n",
        "\r\n",
        "from sklearn.linear_model import SGDClassifier\r\n",
        "pipeline_sgd = Pipeline([\r\n",
        "    ('vect', TfidfVectorizer()),\r\n",
        "    ('tfidf',  TfidfTransformer()),\r\n",
        "    ('n', SGDClassifier())])\r\n",
        "\r\n",
        "\r\n",
        "from sklearn.linear_model import LogisticRegression\r\n",
        "pipeline_lr = Pipeline([\r\n",
        "    ('vect', TfidfVectorizer()),\r\n",
        "    ('tfidf',  TfidfTransformer()),\r\n",
        "    ('n', LogisticRegression())])\r\n",
        "\r\n",
        "from sklearn.ensemble import RandomForestClassifier\r\n",
        "pipeline_rfc = Pipeline([\r\n",
        "    ('vect', TfidfVectorizer()),\r\n",
        "    ('tfidf',  TfidfTransformer()),\r\n",
        "    ('n', RandomForestClassifier())])\r\n",
        "\r\n",
        "from sklearn.neighbors import KNeighborsClassifier\r\n",
        "pipeline_knn = Pipeline([\r\n",
        "    ('vect', CountVectorizer()),\r\n",
        "    ('tfidf',  TfidfTransformer()),\r\n",
        "    ('n', KNeighborsClassifier(n_neighbors=5))])\r\n",
        "\r\n",
        "from sklearn.svm import SVC\r\n",
        "pipeline_svc = Pipeline([\r\n",
        "    ('vect', CountVectorizer()),\r\n",
        "    ('tfidf',  TfidfTransformer()),\r\n",
        "    ('n', SVC(C=1.0, kernel='rbf', degree=3, gamma=0.0, coef0=0.0, shrinking=True, probability=False,tol=0.001, cache_size=200, class_weight=None, verbose=False, max_iter=-1, random_state=None))])"
      ],
      "execution_count": null,
      "outputs": []
    },
    {
      "cell_type": "markdown",
      "metadata": {
        "id": "yA_Ul5wmpohA"
      },
      "source": [
        "# **Training Model**"
      ]
    },
    {
      "cell_type": "code",
      "metadata": {
        "id": "AykC7a6zKMlu"
      },
      "source": [
        "from sklearn.model_selection import train_test_split\r\n",
        "X_train, X_test, y_train, y_test = train_test_split(train.tweet,train.label,random_state = 0)"
      ],
      "execution_count": null,
      "outputs": []
    },
    {
      "cell_type": "markdown",
      "metadata": {
        "id": "CwMbMTC-p-2S"
      },
      "source": [
        "## ***Using SGDClassifier***"
      ]
    },
    {
      "cell_type": "code",
      "metadata": {
        "colab": {
          "base_uri": "https://localhost:8080/"
        },
        "id": "KGau6QluLpaJ",
        "outputId": "cab41ddd-ba9b-40af-fcec-1cf7e4376fa1"
      },
      "source": [
        "%%time\r\n",
        "model=pipeline_sgd.fit(X_train,y_train)\r\n",
        "y_predict = model.predict(X_test)\r\n",
        "\r\n",
        "print(f1_score(y_test, y_predict))"
      ],
      "execution_count": null,
      "outputs": [
        {
          "output_type": "stream",
          "text": [
            "0.9781168440072274\n",
            "CPU times: user 1.03 s, sys: 94 ms, total: 1.12 s\n",
            "Wall time: 1.01 s\n"
          ],
          "name": "stdout"
        }
      ]
    },
    {
      "cell_type": "markdown",
      "metadata": {
        "id": "jWQmw8cxqMjh"
      },
      "source": [
        "## ***Using LogisticRegression***"
      ]
    },
    {
      "cell_type": "code",
      "metadata": {
        "colab": {
          "base_uri": "https://localhost:8080/"
        },
        "id": "BmI2bBNyTTZY",
        "outputId": "32a67978-40b3-4af9-bd16-8e90927edad8"
      },
      "source": [
        "%%time\r\n",
        "model=pipeline_lr.fit(X_train,y_train)\r\n",
        "y_predict = model.predict(X_test)\r\n",
        "\r\n",
        "print(f1_score(y_test, y_predict))"
      ],
      "execution_count": null,
      "outputs": [
        {
          "output_type": "stream",
          "text": [
            "0.9808321645628799\n",
            "CPU times: user 1.6 s, sys: 834 ms, total: 2.44 s\n",
            "Wall time: 1.66 s\n"
          ],
          "name": "stdout"
        }
      ]
    },
    {
      "cell_type": "markdown",
      "metadata": {
        "id": "o8-WTwMdqTfv"
      },
      "source": [
        "## ***Using RandomForestClassifier***"
      ]
    },
    {
      "cell_type": "code",
      "metadata": {
        "colab": {
          "base_uri": "https://localhost:8080/"
        },
        "id": "8w4edfO6TUnN",
        "outputId": "4e541f33-6cd8-4a0c-f39c-77b27949b743"
      },
      "source": [
        "%%time\r\n",
        "model=pipeline_rfc.fit(X_train,y_train)\r\n",
        "y_predict = model.predict(X_test)\r\n",
        "\r\n",
        "print(f1_score(y_test, y_predict))"
      ],
      "execution_count": null,
      "outputs": [
        {
          "output_type": "stream",
          "text": [
            "0.9985773321590679\n",
            "CPU times: user 39.7 s, sys: 30 ms, total: 39.7 s\n",
            "Wall time: 39.8 s\n"
          ],
          "name": "stdout"
        }
      ]
    },
    {
      "cell_type": "markdown",
      "metadata": {
        "id": "65epJA_QqYsk"
      },
      "source": [
        "## ***Using KNeighborsClassifier***"
      ]
    },
    {
      "cell_type": "code",
      "metadata": {
        "colab": {
          "base_uri": "https://localhost:8080/"
        },
        "id": "LIgIvGSrUMkC",
        "outputId": "3ac6bc77-6d9c-4679-d0ad-fe9501bb08d2"
      },
      "source": [
        "%%time\r\n",
        "model=pipeline_knn.fit(X_train,y_train)\r\n",
        "y_predict = model.predict(X_test)\r\n",
        "\r\n",
        "print(f1_score(y_test, y_predict))"
      ],
      "execution_count": null,
      "outputs": [
        {
          "output_type": "stream",
          "text": [
            "0.9785510326050867\n",
            "CPU times: user 15.7 s, sys: 103 ms, total: 15.8 s\n",
            "Wall time: 15.8 s\n"
          ],
          "name": "stdout"
        }
      ]
    },
    {
      "cell_type": "markdown",
      "metadata": {
        "id": "evPErUerqevu"
      },
      "source": [
        "## ***Using SVC***"
      ]
    },
    {
      "cell_type": "code",
      "metadata": {
        "colab": {
          "base_uri": "https://localhost:8080/"
        },
        "id": "o12wbiywVy6X",
        "outputId": "e930530e-ea8d-40c5-afe2-dd502f3c51e1"
      },
      "source": [
        "%%time\r\n",
        "model=pipeline_svc.fit(X_train,y_train)\r\n",
        "y_predict = model.predict(X_test)\r\n",
        "\r\n",
        "print(f1_score(y_test, y_predict))"
      ],
      "execution_count": null,
      "outputs": [
        {
          "output_type": "stream",
          "text": [
            "0.9977661950856292\n",
            "CPU times: user 8min 59s, sys: 164 ms, total: 8min 59s\n",
            "Wall time: 9min\n"
          ],
          "name": "stdout"
        }
      ]
    }
  ]
}